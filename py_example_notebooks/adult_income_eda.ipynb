{
 "cells": [
  {
   "cell_type": "markdown",
   "metadata": {},
   "source": [
    "## Import Requisite Libraries"
   ]
  },
  {
   "cell_type": "code",
   "execution_count": null,
   "metadata": {},
   "outputs": [],
   "source": [
    "import pandas as pd\n",
    "import numpy as np\n",
    "import os\n",
    "\n",
    "from ucimlrepo import fetch_ucirepo\n",
    "\n",
    "from eda_toolkit import (\n",
    "    ensure_directory,\n",
    "    kde_distributions,\n",
    "    data_doctor,\n",
    "    strip_trailing_period,\n",
    "    stacked_crosstab_plot,\n",
    "    box_violin_plot,\n",
    "    scatter_fit_plot,\n",
    "    flex_corr_matrix,\n",
    ")"
   ]
  },
  {
   "cell_type": "markdown",
   "metadata": {},
   "source": [
    "## Ensure Directory"
   ]
  },
  {
   "cell_type": "code",
   "execution_count": null,
   "metadata": {},
   "outputs": [],
   "source": [
    "base_path = os.path.join(os.pardir)\n",
    "\n",
    "# Go up one level from 'notebooks' to parent directory,\n",
    "# then into the 'data' folder\n",
    "data_path = os.path.join(os.pardir, \"data\")\n",
    "data_output = os.path.join(os.pardir, \"data_output\")\n",
    "\n",
    "# create image paths\n",
    "image_path_png = os.path.join(base_path, \"images\", \"png_images\")\n",
    "image_path_svg = os.path.join(base_path, \"images\", \"svg_images\")\n",
    "\n",
    "# Use the function to ensure'data' directory exists\n",
    "ensure_directory(data_path)\n",
    "ensure_directory(data_output)\n",
    "ensure_directory(image_path_png)\n",
    "ensure_directory(image_path_svg)"
   ]
  },
  {
   "cell_type": "markdown",
   "metadata": {},
   "source": [
    "## UCI ML Repository"
   ]
  },
  {
   "cell_type": "code",
   "execution_count": null,
   "metadata": {},
   "outputs": [],
   "source": [
    "# fetch dataset\n",
    "adult = fetch_ucirepo(id=2)\n",
    "\n",
    "# data (as pandas dataframes)\n",
    "X = adult.data.features\n",
    "y = adult.data.targets\n",
    "\n",
    "# Combine X and y into entire df\n",
    "df = X.join(y, how=\"inner\")\n",
    "\n",
    "df.to_csv(os.path.join(data_path, \"adult_income.csv\"))"
   ]
  },
  {
   "cell_type": "code",
   "execution_count": null,
   "metadata": {},
   "outputs": [],
   "source": [
    "## Reload dataframe since a ton of `data_doctor` columns were added from above;\n",
    "## this would cause too many additional columns to loop through; not necessary\n",
    "## for this reproducible example, especially when it comes to saving so many files\n",
    "df = pd.read_csv(os.path.join(data_path, \"adult_income.csv\"))\n",
    "df = df.drop(columns=[\"Unnamed: 0\"])"
   ]
  },
  {
   "cell_type": "markdown",
   "metadata": {},
   "source": [
    "## Binning Numerical Columns"
   ]
  },
  {
   "cell_type": "code",
   "execution_count": null,
   "metadata": {},
   "outputs": [],
   "source": [
    "bin_ages = [\n",
    "    0,\n",
    "    18,\n",
    "    30,\n",
    "    40,\n",
    "    50,\n",
    "    60,\n",
    "    70,\n",
    "    80,\n",
    "    90,\n",
    "    100,\n",
    "    float(\"inf\"),\n",
    "]"
   ]
  },
  {
   "cell_type": "code",
   "execution_count": null,
   "metadata": {},
   "outputs": [],
   "source": [
    "label_ages = [\n",
    "    \"< 18\",\n",
    "    \"18-29\",\n",
    "    \"30-39\",\n",
    "    \"40-49\",\n",
    "    \"50-59\",\n",
    "    \"60-69\",\n",
    "    \"70-79\",\n",
    "    \"80-89\",\n",
    "    \"90-99\",\n",
    "    \"100 +\",\n",
    "]"
   ]
  },
  {
   "cell_type": "code",
   "execution_count": null,
   "metadata": {},
   "outputs": [],
   "source": [
    "df[\"age_group\"] = pd.cut(\n",
    "    df[\"age\"],\n",
    "    bins=bin_ages,\n",
    "    labels=label_ages,\n",
    "    right=False,\n",
    ")"
   ]
  },
  {
   "cell_type": "code",
   "execution_count": null,
   "metadata": {},
   "outputs": [],
   "source": [
    "exclude_combinations = [\n",
    "    (\"capital-gain\", \"hours-per-week\"),\n",
    "    (\"capital-loss\", \"capital-gain\"),\n",
    "    (\"capital-loss\", \"hours-per-week\"),\n",
    "    (\"capital-loss\", \"education-num\"),\n",
    "    (\"capital-loss\", \"fnlwgt\"),\n",
    "    (\"education-num\", \"hours-per-week\"),\n",
    "    (\"hours-per-week\", \"age\"),\n",
    "]\n",
    "\n",
    "scatter_fit_plot(\n",
    "    df=df,\n",
    "    all_vars=df.select_dtypes(np.number).columns.to_list(),\n",
    "    show_legend=True,\n",
    "    exclude_combinations=exclude_combinations,\n",
    "    show_plot=\"combinations\",\n",
    "    label_fontsize=14,\n",
    "    tick_fontsize=12,\n",
    "    add_best_fit_line=True,\n",
    "    scatter_color=\"#808080\",\n",
    "    show_correlation=True,\n",
    "    image_path_png=image_path_png,\n",
    "    image_path_svg=image_path_svg,\n",
    "    save_plots=\"grid\",\n",
    ")"
   ]
  },
  {
   "cell_type": "markdown",
   "metadata": {},
   "source": [
    "## KDE and Histograms"
   ]
  },
  {
   "cell_type": "code",
   "execution_count": null,
   "metadata": {},
   "outputs": [],
   "source": [
    "vars_of_interest = [\n",
    "    \"age\",\n",
    "    \"education-num\",\n",
    "    \"hours-per-week\",\n",
    "]\n",
    "\n",
    "kde_distributions(\n",
    "    df=df,\n",
    "    n_rows=1,\n",
    "    n_cols=3,\n",
    "    subplot_figsize=(14, 4),  # Size of the overall grid figure\n",
    "    fill=True,\n",
    "    fill_alpha=0.60,\n",
    "    text_wrap=50,\n",
    "    bbox_inches=\"tight\",\n",
    "    vars_of_interest=vars_of_interest,\n",
    "    y_axis_label=\"Density\",\n",
    "    bins=10,\n",
    "    plot_type=\"both\",  # Can also just plot KDE by itself by passing \"kde\"\n",
    "    label_fontsize=16,  # Font size for axis labels\n",
    "    tick_fontsize=14,  # Font size for tick labels\n",
    "    image_filename=\"age_distribution_kde\",\n",
    "    image_path_png=image_path_png,\n",
    "    image_path_svg=image_path_svg,\n",
    ")"
   ]
  },
  {
   "cell_type": "markdown",
   "metadata": {},
   "source": [
    "### Histogram Example (Density)"
   ]
  },
  {
   "cell_type": "code",
   "execution_count": null,
   "metadata": {},
   "outputs": [],
   "source": [
    "vars_of_interest = [\n",
    "    \"age\",\n",
    "    \"education-num\",\n",
    "    \"hours-per-week\",\n",
    "]\n",
    "\n",
    "kde_distributions(\n",
    "    df=df,\n",
    "    n_rows=1,\n",
    "    n_cols=3,\n",
    "    subplot_figsize=(14, 4),  # Size of the overall grid figure\n",
    "    fill=True,\n",
    "    text_wrap=50,\n",
    "    bbox_inches=\"tight\",\n",
    "    vars_of_interest=vars_of_interest,\n",
    "    y_axis_label=\"Density\",\n",
    "    bins=10,\n",
    "    plot_type=\"hist\",\n",
    "    label_fontsize=16,  # Font size for axis labels\n",
    "    tick_fontsize=14,  # Font size for tick labels\n",
    "    image_filename=\"age_distribution_density\",\n",
    "    image_path_png=image_path_png,\n",
    "    image_path_svg=image_path_svg,\n",
    ")"
   ]
  },
  {
   "cell_type": "markdown",
   "metadata": {},
   "source": [
    "### Histogram Example (Count)"
   ]
  },
  {
   "cell_type": "code",
   "execution_count": null,
   "metadata": {},
   "outputs": [],
   "source": [
    "vars_of_interest = [\n",
    "    \"age\",\n",
    "    \"education-num\",\n",
    "    \"hours-per-week\",\n",
    "]\n",
    "\n",
    "kde_distributions(\n",
    "    df=df,\n",
    "    n_rows=1,\n",
    "    n_cols=3,\n",
    "    subplot_figsize=(14, 4),  # Size of the overall grid figure\n",
    "    text_wrap=50,\n",
    "    hist_color=\"orange\",\n",
    "    bbox_inches=\"tight\",\n",
    "    vars_of_interest=vars_of_interest,\n",
    "    y_axis_label=\"Count\",\n",
    "    bins=10,\n",
    "    plot_type=\"hist\",\n",
    "    stat=\"Count\",\n",
    "    label_fontsize=16,  # Font size for axis labels\n",
    "    tick_fontsize=14,  # Font size for tick labels\n",
    "    image_filename=\"age_distribution_count\",\n",
    "    image_path_png=image_path_png,\n",
    "    image_path_svg=image_path_svg,\n",
    ")"
   ]
  },
  {
   "cell_type": "markdown",
   "metadata": {},
   "source": [
    "### Histogram Example - (Mean and Median)"
   ]
  },
  {
   "cell_type": "code",
   "execution_count": null,
   "metadata": {},
   "outputs": [],
   "source": [
    "vars_of_interest = [\n",
    "    \"age\",\n",
    "    \"education-num\",\n",
    "    \"hours-per-week\",\n",
    "]\n",
    "\n",
    "kde_distributions(\n",
    "    df=df,\n",
    "    n_rows=1,\n",
    "    n_cols=3,\n",
    "    subplot_figsize=(14, 4),  # Size of the overall grid figure\n",
    "    text_wrap=50,\n",
    "    hist_color=\"brown\",\n",
    "    bbox_inches=\"tight\",\n",
    "    vars_of_interest=vars_of_interest,\n",
    "    y_axis_label=\"Density\",\n",
    "    bins=10,\n",
    "    fill_alpha=0.60,\n",
    "    plot_type=\"hist\",\n",
    "    stat=\"Density\",\n",
    "    label_fontsize=16,  # Font size for axis labels\n",
    "    tick_fontsize=14,  # Font size for tick labels\n",
    "    plot_mean=True,\n",
    "    plot_median=True,\n",
    "    mean_color=\"blue\",\n",
    "    image_filename=\"age_distribution_mean_median\",\n",
    "    image_path_png=image_path_png,\n",
    "    image_path_svg=image_path_svg,\n",
    ")"
   ]
  },
  {
   "cell_type": "markdown",
   "metadata": {},
   "source": [
    "### Histogram Example - (Mean, Median, and Std. Deviation)"
   ]
  },
  {
   "cell_type": "code",
   "execution_count": null,
   "metadata": {},
   "outputs": [],
   "source": [
    "vars_of_interest = [\n",
    "    \"age\",\n",
    "]\n",
    "\n",
    "kde_distributions(\n",
    "    df=df,\n",
    "    figsize=(10, 6),\n",
    "    text_wrap=50,\n",
    "    hist_color=\"brown\",\n",
    "    bbox_inches=\"tight\",\n",
    "    vars_of_interest=vars_of_interest,\n",
    "    y_axis_label=\"Density\",\n",
    "    bins=10,\n",
    "    fill_alpha=0.40,\n",
    "    plot_type=\"both\",\n",
    "    stat=\"Density\",\n",
    "    label_fontsize=16,  # Font size for axis labels\n",
    "    tick_fontsize=14,  # Font size for tick labels\n",
    "    plot_mean=True,\n",
    "    plot_median=True,\n",
    "    mean_color=\"blue\",\n",
    "    image_path_svg=image_path_svg,\n",
    "    image_path_png=image_path_png,\n",
    "    std_dev_levels=[\n",
    "        1,\n",
    "        2,\n",
    "        3,\n",
    "    ],\n",
    "    std_color=[\n",
    "        \"purple\",\n",
    "        \"green\",\n",
    "        \"silver\",\n",
    "    ],\n",
    "    image_filename=\"age_distribution_mean_median_std\",\n",
    ")"
   ]
  },
  {
   "cell_type": "markdown",
   "metadata": {},
   "source": [
    "## Feature Scaling and Outliers"
   ]
  },
  {
   "cell_type": "markdown",
   "metadata": {},
   "source": [
    "### Box-Cox Transformation Example 1"
   ]
  },
  {
   "cell_type": "code",
   "execution_count": null,
   "metadata": {},
   "outputs": [],
   "source": [
    "df_doctor = df.copy()"
   ]
  },
  {
   "cell_type": "code",
   "execution_count": null,
   "metadata": {},
   "outputs": [],
   "source": [
    "data_doctor(\n",
    "    df=df_doctor,\n",
    "    feature_name=\"age\",\n",
    "    data_fraction=0.6,\n",
    "    scale_conversion=\"boxcox\",\n",
    "    apply_cutoff=False,\n",
    "    lower_cutoff=None,\n",
    "    upper_cutoff=None,\n",
    "    show_plot=True,\n",
    "    apply_as_new_col_to_df=True,\n",
    "    random_state=111,\n",
    "    figsize=(10, 3),\n",
    "    image_path_png=image_path_png,\n",
    "    image_path_svg=image_path_svg,\n",
    "    save_plot=True,\n",
    ")"
   ]
  },
  {
   "cell_type": "code",
   "execution_count": null,
   "metadata": {},
   "outputs": [],
   "source": [
    "df.head()"
   ]
  },
  {
   "cell_type": "markdown",
   "metadata": {},
   "source": [
    "### Box-Cox Transformation Example 2"
   ]
  },
  {
   "cell_type": "code",
   "execution_count": null,
   "metadata": {},
   "outputs": [],
   "source": [
    "data_doctor(\n",
    "    df=df_doctor,\n",
    "    feature_name=\"age\",\n",
    "    data_fraction=1,\n",
    "    scale_conversion=\"boxcox\",\n",
    "    apply_cutoff=False,\n",
    "    lower_cutoff=None,\n",
    "    upper_cutoff=None,\n",
    "    show_plot=True,\n",
    "    apply_as_new_col_to_df=True,\n",
    "    scale_conversion_kws={\"alpha\": 0.8},\n",
    "    box_violin=\"violinplot\",\n",
    "    box_violin_kws={\"color\": \"lightblue\"},\n",
    "    kde_kws={\"fill\": True, \"color\": \"blue\"},\n",
    "    hist_kws={\"color\": \"green\"},\n",
    "    random_state=111,\n",
    "    figsize=(10, 3),\n",
    "    image_path_png=image_path_png,\n",
    "    image_path_svg=image_path_svg,\n",
    "    save_plot=True,\n",
    ")"
   ]
  },
  {
   "cell_type": "markdown",
   "metadata": {},
   "source": [
    "### Retaining a Sample for Analysis"
   ]
  },
  {
   "cell_type": "code",
   "execution_count": null,
   "metadata": {},
   "outputs": [],
   "source": [
    "sampled_df = df_doctor.sample(frac=0.6, random_state=111)"
   ]
  },
  {
   "cell_type": "code",
   "execution_count": null,
   "metadata": {},
   "outputs": [],
   "source": [
    "sampled_df.head()"
   ]
  },
  {
   "cell_type": "code",
   "execution_count": null,
   "metadata": {},
   "outputs": [],
   "source": [
    "print(\n",
    "    f\"The sampled dataframe has {sampled_df.shape[0]} rows and {sampled_df.shape[1]} columns.\"\n",
    ")"
   ]
  },
  {
   "cell_type": "markdown",
   "metadata": {},
   "source": [
    "### Plain Outliers Example"
   ]
  },
  {
   "cell_type": "code",
   "execution_count": null,
   "metadata": {},
   "outputs": [],
   "source": [
    "data_doctor(\n",
    "    df=df_doctor,\n",
    "    feature_name=\"fnlwgt\",\n",
    "    data_fraction=0.6,\n",
    "    plot_type=[\"box_violin\", \"hist\"],\n",
    "    hist_kws={\"color\": \"gray\"},\n",
    "    figsize=(8, 4),\n",
    "    image_path_png=image_path_png,\n",
    "    image_path_svg=image_path_svg,\n",
    "    save_plot=True,\n",
    "    random_state=111,\n",
    ")"
   ]
  },
  {
   "cell_type": "markdown",
   "metadata": {},
   "source": [
    "### Treated Outliers With Cutoffs"
   ]
  },
  {
   "cell_type": "code",
   "execution_count": null,
   "metadata": {},
   "outputs": [],
   "source": [
    "data_doctor(\n",
    "    df=df_doctor,\n",
    "    feature_name=\"fnlwgt\",\n",
    "    data_fraction=0.6,\n",
    "    apply_as_new_col_to_df=True,\n",
    "    apply_cutoff=True,\n",
    "    upper_cutoff=400000,\n",
    "    plot_type=[\"box_violin\", \"hist\"],\n",
    "    hist_kws={\"color\": \"gray\", \"bins\": 20},\n",
    "    figsize=(8, 4),\n",
    "    image_path_png=image_path_png,\n",
    "    image_path_svg=image_path_svg,\n",
    "    save_plot=True,\n",
    "    random_state=111,\n",
    ")"
   ]
  },
  {
   "cell_type": "markdown",
   "metadata": {},
   "source": [
    "### RobustScaler Outliers Examples"
   ]
  },
  {
   "cell_type": "code",
   "execution_count": null,
   "metadata": {},
   "outputs": [],
   "source": [
    "data_doctor(\n",
    "    df=df_doctor,\n",
    "    feature_name=\"age\",\n",
    "    data_fraction=0.6,\n",
    "    scale_conversion=\"robust\",\n",
    "    apply_as_new_col_to_df=True,\n",
    "    scale_conversion_kws={\n",
    "        \"with_centering\": False,  # Disable centering\n",
    "        \"quantile_range\": (10.0, 90.0),  # Use a custom quantile range\n",
    "    },\n",
    "    random_state=111,\n",
    "    image_path_png=image_path_png,\n",
    "    image_path_svg=image_path_svg,\n",
    "    save_plot=True,\n",
    ")"
   ]
  },
  {
   "cell_type": "markdown",
   "metadata": {},
   "source": [
    "## Stacked Crosstab Plots"
   ]
  },
  {
   "cell_type": "markdown",
   "metadata": {},
   "source": [
    "### Stacked Bar Plots With Crosstabs Example"
   ]
  },
  {
   "cell_type": "code",
   "execution_count": null,
   "metadata": {},
   "outputs": [],
   "source": [
    "df = strip_trailing_period(df=df_doctor, column_name=\"income\")"
   ]
  },
  {
   "cell_type": "code",
   "execution_count": null,
   "metadata": {},
   "outputs": [],
   "source": [
    "# Define the func_col to use in the loop in order of usage\n",
    "func_col = [\"sex\", \"income\"]\n",
    "\n",
    "# Define the legend_labels to use in the loop\n",
    "legend_labels_list = [\n",
    "    [\"Male\", \"Female\"],  # Corresponds to \"sex\"\n",
    "    [\"<=50K\", \">50K\"],  # Corresponds to \"income\"\n",
    "]\n",
    "\n",
    "# Define titles for the plots\n",
    "title = [\n",
    "    \"Sex\",\n",
    "    \"Income\",\n",
    "]"
   ]
  },
  {
   "cell_type": "code",
   "execution_count": null,
   "metadata": {},
   "outputs": [],
   "source": [
    "# Call the stacked_crosstab_plot function\n",
    "stacked_crosstabs = stacked_crosstab_plot(\n",
    "    df=df,\n",
    "    col=\"age_group\",\n",
    "    func_col=func_col,\n",
    "    legend_labels_list=legend_labels_list,\n",
    "    title=title,\n",
    "    kind=\"bar\",\n",
    "    width=0.8,\n",
    "    rot=0,  # axis rotation angle\n",
    "    custom_order=None,\n",
    "    color=[\"#00BFC4\", \"#F8766D\"],  # default color schema\n",
    "    output=\"plots_only\",\n",
    "    return_dict=True,\n",
    "    x=14,\n",
    "    y=8,\n",
    "    p=10,\n",
    "    logscale=False,\n",
    "    plot_type=\"both\",\n",
    "    show_legend=True,\n",
    "    label_fontsize=14,\n",
    "    tick_fontsize=12,\n",
    "    image_path_png=image_path_png,\n",
    "    image_path_svg=image_path_svg,\n",
    "    file_prefix=\"stacked_bar\",\n",
    "    save_formats=[\"png\", \"svg\"],\n",
    ")"
   ]
  },
  {
   "cell_type": "code",
   "execution_count": null,
   "metadata": {},
   "outputs": [],
   "source": [
    "crosstab_age_sex = stacked_crosstabs[\"sex\"]\n",
    "crosstab_age_income = stacked_crosstabs[\"income\"]"
   ]
  },
  {
   "cell_type": "code",
   "execution_count": null,
   "metadata": {},
   "outputs": [],
   "source": [
    "crosstab_age_sex"
   ]
  },
  {
   "cell_type": "code",
   "execution_count": null,
   "metadata": {},
   "outputs": [],
   "source": [
    "crosstab_age_income"
   ]
  },
  {
   "cell_type": "markdown",
   "metadata": {},
   "source": [
    "### Non-Normalized Stacked Bar Plots Example"
   ]
  },
  {
   "cell_type": "code",
   "execution_count": null,
   "metadata": {},
   "outputs": [],
   "source": [
    "# Call the stacked_crosstab_plot function\n",
    "stacked_crosstabs = stacked_crosstab_plot(\n",
    "    df=df,\n",
    "    col=\"age_group\",\n",
    "    func_col=func_col,\n",
    "    legend_labels_list=legend_labels_list,\n",
    "    title=title,\n",
    "    kind=\"bar\",\n",
    "    width=0.8,\n",
    "    rot=0,  # axis rotation angle\n",
    "    custom_order=None,\n",
    "    color=[\"#00BFC4\", \"#F8766D\"],  # default color schema\n",
    "    output=\"both\",\n",
    "    return_dict=True,\n",
    "    x=14,\n",
    "    y=8,\n",
    "    p=10,\n",
    "    logscale=False,\n",
    "    plot_type=\"regular\",\n",
    "    show_legend=True,\n",
    "    label_fontsize=14,\n",
    "    tick_fontsize=12,\n",
    "    image_path_png=image_path_png,\n",
    "    image_path_svg=image_path_svg,\n",
    "    file_prefix=\"stacked_bar_non_normalized\",\n",
    "    save_formats=[\"png\", \"svg\"],\n",
    ")"
   ]
  },
  {
   "cell_type": "markdown",
   "metadata": {},
   "source": [
    "## Regular Non-Stacked Bar Plots Example"
   ]
  },
  {
   "cell_type": "code",
   "execution_count": null,
   "metadata": {},
   "outputs": [],
   "source": [
    "# Call the stacked_crosstab_plot function\n",
    "stacked_crosstabs = stacked_crosstab_plot(\n",
    "    df=df,\n",
    "    col=\"age_group\",\n",
    "    func_col=func_col,\n",
    "    legend_labels_list=legend_labels_list,\n",
    "    title=title,\n",
    "    kind=\"bar\",\n",
    "    width=0.8,\n",
    "    rot=0,  # axis rotation angle\n",
    "    custom_order=None,\n",
    "    color=\"#333333\",\n",
    "    output=\"both\",\n",
    "    return_dict=True,\n",
    "    x=14,\n",
    "    y=8,\n",
    "    p=10,\n",
    "    logscale=False,\n",
    "    plot_type=\"regular\",\n",
    "    show_legend=True,\n",
    "    label_fontsize=14,\n",
    "    tick_fontsize=12,\n",
    "    remove_stacks=True,\n",
    "    image_path_png=image_path_png,\n",
    "    image_path_svg=image_path_svg,\n",
    "    file_prefix=\"unstacked_bar\",\n",
    "    save_formats=[\"png\", \"svg\"],\n",
    ")"
   ]
  },
  {
   "cell_type": "markdown",
   "metadata": {},
   "source": [
    "## Box and Violin Plots"
   ]
  },
  {
   "cell_type": "markdown",
   "metadata": {},
   "source": [
    "### Box Plots Grid Example"
   ]
  },
  {
   "cell_type": "code",
   "execution_count": null,
   "metadata": {},
   "outputs": [],
   "source": [
    "age_boxplot_list = df[\n",
    "    [\n",
    "        \"education-num\",\n",
    "        \"hours-per-week\",\n",
    "    ]\n",
    "].columns.to_list()"
   ]
  },
  {
   "cell_type": "code",
   "execution_count": null,
   "metadata": {},
   "outputs": [],
   "source": [
    "metrics_comp = [\"age_group\"]\n",
    "\n",
    "box_violin_plot(\n",
    "    df=df,\n",
    "    metrics_list=age_boxplot_list,\n",
    "    metrics_comp=metrics_comp,\n",
    "    image_path_png=image_path_png,\n",
    "    image_path_svg=image_path_svg,\n",
    "    save_plots=True,\n",
    "    show_plot=\"both\",\n",
    "    show_legend=False,\n",
    "    plot_type=\"boxplot\",\n",
    "    xlabel_rot=90,\n",
    ")"
   ]
  },
  {
   "cell_type": "markdown",
   "metadata": {},
   "source": [
    "### Violin Plots Grid Example"
   ]
  },
  {
   "cell_type": "code",
   "execution_count": null,
   "metadata": {},
   "outputs": [],
   "source": [
    "metrics_comp = [\"age_group\"]\n",
    "\n",
    "box_violin_plot(\n",
    "    df=df,\n",
    "    metrics_list=age_boxplot_list,\n",
    "    metrics_comp=metrics_comp,\n",
    "    image_path_png=image_path_png,\n",
    "    image_path_svg=image_path_svg,\n",
    "    # save_plots=True,\n",
    "    show_plot=\"both\",\n",
    "    show_legend=False,\n",
    "    plot_type=\"violinplot\",\n",
    "    xlabel_rot=90,\n",
    ")"
   ]
  },
  {
   "cell_type": "markdown",
   "metadata": {},
   "source": [
    "### Pivoted Violin Plots Grid Example"
   ]
  },
  {
   "cell_type": "code",
   "execution_count": null,
   "metadata": {},
   "outputs": [],
   "source": [
    "metrics_comp = [\"age_group\"]\n",
    "\n",
    "box_violin_plot(\n",
    "    df=df,\n",
    "    metrics_list=age_boxplot_list,\n",
    "    metrics_comp=metrics_comp,\n",
    "    show_plot=\"both\",\n",
    "    rotate_plot=True,\n",
    "    show_legend=False,\n",
    "    plot_type=\"violinplot\",\n",
    "    xlabel_rot=0,\n",
    ")"
   ]
  },
  {
   "cell_type": "markdown",
   "metadata": {},
   "source": [
    "## Scatter Plots and Best Fit Lines"
   ]
  },
  {
   "cell_type": "markdown",
   "metadata": {},
   "source": [
    "### Regression-Centric Scatter Plots Example"
   ]
  },
  {
   "cell_type": "code",
   "execution_count": null,
   "metadata": {},
   "outputs": [],
   "source": [
    "df = df.drop(columns=[\"age_boxcox\", \"fnlwgt_w_cutoff\", \"age_robust\"])"
   ]
  },
  {
   "cell_type": "code",
   "execution_count": null,
   "metadata": {},
   "outputs": [],
   "source": [
    "scatter_fit_plot(\n",
    "    df=df,\n",
    "    # x_vars=[\"age\", \"education-num\"],\n",
    "    # y_vars=[\"hours-per-week\"],\n",
    "    all_vars=df.select_dtypes(np.number).columns.to_list(),\n",
    "    show_legend=True,\n",
    "    n_cols=6,\n",
    "    show_plot=\"subplots\",\n",
    "    subplot_figsize=None,\n",
    "    label_fontsize=14,\n",
    "    tick_fontsize=12,\n",
    "    add_best_fit_line=True,\n",
    "    scatter_color=\"#808080\",\n",
    "    show_correlation=True,\n",
    "    image_path_png=image_path_png,\n",
    "    image_path_svg=image_path_svg,\n",
    "    save_plots=\"all\",\n",
    ")"
   ]
  },
  {
   "cell_type": "markdown",
   "metadata": {},
   "source": [
    "### Scatter Plots Grouped by Category Example"
   ]
  },
  {
   "cell_type": "code",
   "execution_count": null,
   "metadata": {},
   "outputs": [],
   "source": [
    "hue_dict = {\"<=50K\": \"brown\", \">50K\": \"green\"}\n",
    "\n",
    "scatter_fit_plot(\n",
    "    df=df,\n",
    "    x_vars=[\"age\", \"education-num\"],\n",
    "    y_vars=[\"hours-per-week\"],\n",
    "    show_legend=True,\n",
    "    show_plot=\"subplots\",\n",
    "    label_fontsize=14,\n",
    "    tick_fontsize=12,\n",
    "    add_best_fit_line=False,\n",
    "    scatter_color=\"#808080\",\n",
    "    hue=\"income\",\n",
    "    hue_palette=hue_dict,\n",
    "    show_correlation=False,\n",
    "    image_path_png=image_path_png,\n",
    "    image_path_svg=image_path_svg,\n",
    "    save_plots=\"all\",\n",
    ")"
   ]
  },
  {
   "cell_type": "markdown",
   "metadata": {},
   "source": [
    "### Scatter Plots (All Combinations Example)"
   ]
  },
  {
   "cell_type": "code",
   "execution_count": null,
   "metadata": {},
   "outputs": [],
   "source": [
    "## Reload dataframe since a ton of `data_doctor` columns were added from above;\n",
    "## this would cause too many additional columns to loop through; not necessary\n",
    "## for this reproducible example, especially when it comes to saving so many files\n",
    "df = pd.read_csv(os.path.join(data_path, \"adult_income.csv\"))\n",
    "df = df.drop(columns=[\"Unnamed: 0\"])"
   ]
  },
  {
   "cell_type": "code",
   "execution_count": null,
   "metadata": {},
   "outputs": [],
   "source": [
    "scatter_fit_plot(\n",
    "    df=df,\n",
    "    all_vars=df.select_dtypes(np.number).columns.to_list(),\n",
    "    show_legend=True,\n",
    "    show_plot=\"subplots\",\n",
    "    label_fontsize=14,\n",
    "    tick_fontsize=12,\n",
    "    add_best_fit_line=True,\n",
    "    scatter_color=\"#808080\",\n",
    "    show_correlation=True,\n",
    "    image_path_png=image_path_png,\n",
    "    image_path_svg=image_path_svg,\n",
    "    save_plots=\"all\",\n",
    ")"
   ]
  },
  {
   "cell_type": "code",
   "execution_count": null,
   "metadata": {},
   "outputs": [],
   "source": [
    "exclude_combinations = [\n",
    "    (\"capital-gain\", \"hours-per-week\"),\n",
    "    (\"capital-loss\", \"capital-gain\"),\n",
    "    (\"capital-loss\", \"hours-per-week\"),\n",
    "    (\"capital-loss\", \"education-num\"),\n",
    "    (\"capital-loss\", \"fnlwgt\"),\n",
    "    (\"education-num\", \"hours-per-week\"),\n",
    "    (\"hours-per-week\", \"age\"),\n",
    "]\n",
    "\n",
    "scatter_fit_plot(\n",
    "    df=df,\n",
    "    all_vars=df.select_dtypes(np.number).columns.to_list(),\n",
    "    show_legend=True,\n",
    "    exclude_combinations=exclude_combinations,\n",
    "    show_plot=\"combinations\",\n",
    "    label_fontsize=14,\n",
    "    tick_fontsize=12,\n",
    "    add_best_fit_line=True,\n",
    "    scatter_color=\"#808080\",\n",
    "    show_correlation=True,\n",
    "    image_path_png=image_path_png,\n",
    "    image_path_svg=image_path_svg,\n",
    "    save_plots=\"grid\",\n",
    ")"
   ]
  },
  {
   "cell_type": "markdown",
   "metadata": {},
   "source": [
    "## Correlation Matrices"
   ]
  },
  {
   "cell_type": "markdown",
   "metadata": {},
   "source": [
    "### Triangular Correlation Matrix Example"
   ]
  },
  {
   "cell_type": "code",
   "execution_count": null,
   "metadata": {},
   "outputs": [],
   "source": [
    "# Select only numeric data to pass into the function\n",
    "df_num = df.select_dtypes(np.number)"
   ]
  },
  {
   "cell_type": "code",
   "execution_count": null,
   "metadata": {},
   "outputs": [],
   "source": [
    "flex_corr_matrix(\n",
    "    df=df,\n",
    "    cols=df_num.columns.to_list(),\n",
    "    annot=True,\n",
    "    cmap=\"coolwarm\",\n",
    "    figsize=(10, 8),\n",
    "    title=\"US Census Correlation Matrix\",\n",
    "    xlabel_alignment=\"right\",\n",
    "    label_fontsize=14,\n",
    "    tick_fontsize=12,\n",
    "    xlabel_rot=45,\n",
    "    ylabel_rot=0,\n",
    "    text_wrap=50,\n",
    "    vmin=-1,\n",
    "    vmax=1,\n",
    "    cbar_label=\"Correlation Index\",\n",
    "    triangular=True,\n",
    "    image_path_png=image_path_png,\n",
    "    image_path_svg=image_path_svg,\n",
    "    save_plots=True,\n",
    ")"
   ]
  },
  {
   "cell_type": "markdown",
   "metadata": {},
   "source": [
    "### Full Correlation Matrix Example"
   ]
  },
  {
   "cell_type": "code",
   "execution_count": null,
   "metadata": {},
   "outputs": [],
   "source": [
    "flex_corr_matrix(\n",
    "    df=df,\n",
    "    cols=df_num.columns.to_list(),\n",
    "    annot=True,\n",
    "    cmap=\"viridis\",\n",
    "    figsize=(10, 8),\n",
    "    title=\"US Census Correlation Matrix\",\n",
    "    xlabel_alignment=\"right\",\n",
    "    label_fontsize=14,\n",
    "    tick_fontsize=12,\n",
    "    xlabel_rot=45,\n",
    "    ylabel_rot=0,\n",
    "    text_wrap=50,\n",
    "    vmin=-1,\n",
    "    vmax=1,\n",
    "    cbar_label=\"Correlation Index\",\n",
    "    triangular=False,\n",
    "    image_path_png=image_path_png,\n",
    "    image_path_svg=image_path_svg,\n",
    "    save_plots=True,\n",
    ")"
   ]
  },
  {
   "cell_type": "markdown",
   "metadata": {},
   "source": [
    "## Outcome Crosstab Plot Examples"
   ]
  },
  {
   "cell_type": "markdown",
   "metadata": {},
   "source": [
    "### Clean up income column by removing trailing period"
   ]
  },
  {
   "cell_type": "code",
   "execution_count": null,
   "metadata": {},
   "outputs": [],
   "source": [
    "df[\"income\"] = df[\"income\"].astype(str)\n",
    "## Clean target column by removing trailing period\n",
    "df.loc[:, \"income\"] = df[\"income\"].str.rstrip(\".\")\n",
    "\n",
    "# Display class balance\n",
    "print(f\"\\nBreakdown of y:\\n{df['income'].value_counts()}\\n\")"
   ]
  },
  {
   "cell_type": "markdown",
   "metadata": {},
   "source": [
    "### Identify binary columns"
   ]
  },
  {
   "cell_type": "code",
   "execution_count": null,
   "metadata": {},
   "outputs": [],
   "source": [
    "bar_list = [\"race\", \"sex\"]"
   ]
  },
  {
   "cell_type": "code",
   "execution_count": null,
   "metadata": {},
   "outputs": [],
   "source": [
    "from eda_toolkit import outcome_crosstab_plot\n",
    "\n",
    "outcome_crosstab_plot(\n",
    "    df=df,\n",
    "    list_name=bar_list,\n",
    "    label_0=\"<=50k\",\n",
    "    label_1=\">50K\",\n",
    "    figsize=(10, 6),\n",
    "    normalize=False,\n",
    "    image_path_svg=image_path_svg,\n",
    "    image_path_png=image_path_png,\n",
    "    string=\"outcome_by_feature\",\n",
    "    save_plots=True,\n",
    "    outcome=\"income\",\n",
    "    show_value_counts=True,\n",
    "    # color_schema=surg_tech_color,\n",
    ")"
   ]
  }
 ],
 "metadata": {
  "kernelspec": {
   "display_name": "venv_eda_311",
   "language": "python",
   "name": "python3"
  },
  "language_info": {
   "codemirror_mode": {
    "name": "ipython",
    "version": 3
   },
   "file_extension": ".py",
   "mimetype": "text/x-python",
   "name": "python",
   "nbconvert_exporter": "python",
   "pygments_lexer": "ipython3",
   "version": "3.11.11"
  }
 },
 "nbformat": 4,
 "nbformat_minor": 2
}

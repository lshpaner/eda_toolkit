{
 "cells": [
  {
   "cell_type": "markdown",
   "metadata": {},
   "source": [
    "## Import Requisite Lbraries"
   ]
  },
  {
   "cell_type": "code",
   "execution_count": 1,
   "metadata": {},
   "outputs": [
    {
     "name": "stderr",
     "output_type": "stream",
     "text": [
      "/mnt/c/Users/lshpaner/Documents/GitHub_Repos/eda_toolkit/eda_venv_311/lib/python3.11/site-packages/numpy/_core/getlimits.py:548: UserWarning: Signature b'\\x00\\xd0\\xcc\\xcc\\xcc\\xcc\\xcc\\xcc\\xfb\\xbf\\x00\\x00\\x00\\x00\\x00\\x00' for <class 'numpy.longdouble'> does not match any known type: falling back to type probe function.\n",
      "This warnings indicates broken support for the dtype!\n",
      "  machar = _get_machar(dtype)\n"
     ]
    }
   ],
   "source": [
    "import pandas as pd\n",
    "import os  # import operating system for dir"
   ]
  },
  {
   "cell_type": "markdown",
   "metadata": {},
   "source": [
    "## Ensure Directory"
   ]
  },
  {
   "cell_type": "code",
   "execution_count": 2,
   "metadata": {},
   "outputs": [
    {
     "name": "stdout",
     "output_type": "stream",
     "text": [
      "Directory exists: ../data\n",
      "Directory exists: ../data_output\n",
      "Directory exists: ../images/png_images\n",
      "Directory exists: ../images/svg_images\n"
     ]
    }
   ],
   "source": [
    "from eda_toolkit import ensure_directory\n",
    "\n",
    "base_path = os.path.join(os.pardir)\n",
    "\n",
    "# Go up one level from 'notebooks' to parent directory,\n",
    "# then into the 'data' folder\n",
    "data_path = os.path.join(os.pardir, \"data\")\n",
    "data_output = os.path.join(os.pardir, \"data_output\")\n",
    "\n",
    "# create image paths\n",
    "image_path_png = os.path.join(base_path, \"images\", \"png_images\")\n",
    "image_path_svg = os.path.join(base_path, \"images\", \"svg_images\")\n",
    "\n",
    "# Use the function to ensure'data' directory exists\n",
    "ensure_directory(data_path)\n",
    "ensure_directory(data_output)\n",
    "ensure_directory(image_path_png)\n",
    "ensure_directory(image_path_svg)"
   ]
  },
  {
   "cell_type": "markdown",
   "metadata": {},
   "source": [
    "## UCI ML Repository"
   ]
  },
  {
   "cell_type": "code",
   "execution_count": 3,
   "metadata": {},
   "outputs": [],
   "source": [
    "from ucimlrepo import fetch_ucirepo\n",
    "\n",
    "# fetch dataset\n",
    "adult = fetch_ucirepo(id=2)\n",
    "\n",
    "# data (as pandas dataframes)\n",
    "X = adult.data.features\n",
    "y = adult.data.targets\n",
    "\n",
    "# Combine X and y into entire df\n",
    "df = X.join(y, how=\"inner\")\n",
    "\n",
    "df.to_csv(os.path.join(data_path, \"adult_income.csv\"))"
   ]
  },
  {
   "cell_type": "markdown",
   "metadata": {},
   "source": [
    "## Generate Table 1"
   ]
  },
  {
   "cell_type": "code",
   "execution_count": 4,
   "metadata": {},
   "outputs": [],
   "source": [
    "from eda_toolkit import generate_table1\n",
    "\n",
    "# Get DataFrame and Markdown string\n",
    "df1 = generate_table1(\n",
    "    df,\n",
    "    value_counts=True,\n",
    "    decimal_places=0,\n",
    ")"
   ]
  },
  {
   "cell_type": "code",
   "execution_count": 5,
   "metadata": {},
   "outputs": [],
   "source": [
    "# Just get markdown string (no tuple)\n",
    "md_only = generate_table1(\n",
    "    df,\n",
    "    export_markdown=True,\n",
    "    return_markdown_only=True,\n",
    "    combine=False,\n",
    "    include_types=\"continuous\",\n",
    ")"
   ]
  },
  {
   "cell_type": "code",
   "execution_count": 6,
   "metadata": {},
   "outputs": [],
   "source": [
    "table1 = generate_table1(\n",
    "    df,\n",
    "    export_markdown=True,\n",
    "    combine=False,\n",
    "    include_types=\"categorical\",\n",
    ")"
   ]
  },
  {
   "cell_type": "code",
   "execution_count": 7,
   "metadata": {},
   "outputs": [],
   "source": [
    "# Save Markdown to file\n",
    "generate_table1(\n",
    "    df,\n",
    "    value_counts=True,\n",
    "    export_markdown=True,\n",
    "    markdown_path=\"../hello_categorical.md\",\n",
    "    combine=False,\n",
    ")"
   ]
  },
  {
   "cell_type": "code",
   "execution_count": 8,
   "metadata": {},
   "outputs": [],
   "source": [
    "# Get DataFrame and Markdown string\n",
    "df2 = generate_table1(\n",
    "    df,\n",
    "    value_counts=True,\n",
    "    include_types=\"categorical\",\n",
    "    decimal_places=0,\n",
    "    combine=True,\n",
    "    # pretty_print=True,\n",
    ")"
   ]
  },
  {
   "cell_type": "code",
   "execution_count": 9,
   "metadata": {},
   "outputs": [
    {
     "name": "stdout",
     "output_type": "stream",
     "text": [
      " Variable           | Type        | Mean | SD | Median | Min | Max | Mode               | Missing (n) | Missing (%) | Count  | Proportion (%) \n",
      "--------------------|-------------|------|----|--------|-----|-----|--------------------|-------------|-------------|--------|----------------\n",
      " workclass = Privat | Categorical |      |    |        |     |     | Private            | 963         | 2           | 33,906 | 69             \n",
      " workclass = Self-e | Categorical |      |    |        |     |     | Private            | 963         | 2           | 3,862  | 8              \n",
      " workclass = Local- | Categorical |      |    |        |     |     | Private            | 963         | 2           | 3,136  | 6              \n",
      " workclass = State- | Categorical |      |    |        |     |     | Private            | 963         | 2           | 1,981  | 4              \n",
      " workclass = ?      | Categorical |      |    |        |     |     | Private            | 963         | 2           | 1,836  | 4              \n",
      " workclass = Self-e | Categorical |      |    |        |     |     | Private            | 963         | 2           | 1,695  | 3              \n",
      " workclass = Federa | Categorical |      |    |        |     |     | Private            | 963         | 2           | 1,432  | 3              \n",
      " workclass = NaN    | Categorical |      |    |        |     |     | Private            | 963         | 2           | 963    | 2              \n",
      " workclass = Withou | Categorical |      |    |        |     |     | Private            | 963         | 2           | 21     | 0              \n",
      " workclass = Never- | Categorical |      |    |        |     |     | Private            | 963         | 2           | 10     | 0              \n",
      " education = HS-gra | Categorical |      |    |        |     |     | HS-grad            | 0           | 0           | 15,784 | 32             \n",
      " education = Some-c | Categorical |      |    |        |     |     | HS-grad            | 0           | 0           | 10,878 | 22             \n",
      " education = Bachel | Categorical |      |    |        |     |     | HS-grad            | 0           | 0           | 8,025  | 16             \n",
      " education = Master | Categorical |      |    |        |     |     | HS-grad            | 0           | 0           | 2,657  | 5              \n",
      " education = Assoc- | Categorical |      |    |        |     |     | HS-grad            | 0           | 0           | 2,061  | 4              \n",
      " education = 11th   | Categorical |      |    |        |     |     | HS-grad            | 0           | 0           | 1,812  | 4              \n",
      " education = Assoc- | Categorical |      |    |        |     |     | HS-grad            | 0           | 0           | 1,601  | 3              \n",
      " education = 10th   | Categorical |      |    |        |     |     | HS-grad            | 0           | 0           | 1,389  | 3              \n",
      " education = 7th-8t | Categorical |      |    |        |     |     | HS-grad            | 0           | 0           | 955    | 2              \n",
      " education = Prof-s | Categorical |      |    |        |     |     | HS-grad            | 0           | 0           | 834    | 2              \n",
      " education = 9th    | Categorical |      |    |        |     |     | HS-grad            | 0           | 0           | 756    | 2              \n",
      " education = 12th   | Categorical |      |    |        |     |     | HS-grad            | 0           | 0           | 657    | 1              \n",
      " education = Doctor | Categorical |      |    |        |     |     | HS-grad            | 0           | 0           | 594    | 1              \n",
      " education = 5th-6t | Categorical |      |    |        |     |     | HS-grad            | 0           | 0           | 509    | 1              \n",
      " education = 1st-4t | Categorical |      |    |        |     |     | HS-grad            | 0           | 0           | 247    | 1              \n",
      " education = Presch | Categorical |      |    |        |     |     | HS-grad            | 0           | 0           | 83     | 0              \n",
      " marital-status = M | Categorical |      |    |        |     |     | Married-civ-spouse | 0           | 0           | 22,379 | 46             \n",
      " marital-status = N | Categorical |      |    |        |     |     | Married-civ-spouse | 0           | 0           | 16,117 | 33             \n",
      " marital-status = D | Categorical |      |    |        |     |     | Married-civ-spouse | 0           | 0           | 6,633  | 14             \n",
      " marital-status = S | Categorical |      |    |        |     |     | Married-civ-spouse | 0           | 0           | 1,530  | 3              \n",
      " marital-status = W | Categorical |      |    |        |     |     | Married-civ-spouse | 0           | 0           | 1,518  | 3              \n",
      " marital-status = M | Categorical |      |    |        |     |     | Married-civ-spouse | 0           | 0           | 628    | 1              \n",
      " marital-status = M | Categorical |      |    |        |     |     | Married-civ-spouse | 0           | 0           | 37     | 0              \n",
      " occupation = Prof- | Categorical |      |    |        |     |     | Prof-specialty     | 966         | 2           | 6,172  | 13             \n",
      " occupation = Craft | Categorical |      |    |        |     |     | Prof-specialty     | 966         | 2           | 6,112  | 13             \n",
      " occupation = Exec- | Categorical |      |    |        |     |     | Prof-specialty     | 966         | 2           | 6,086  | 12             \n",
      " occupation = Adm-c | Categorical |      |    |        |     |     | Prof-specialty     | 966         | 2           | 5,611  | 11             \n",
      " occupation = Sales | Categorical |      |    |        |     |     | Prof-specialty     | 966         | 2           | 5,504  | 11             \n",
      " occupation = Other | Categorical |      |    |        |     |     | Prof-specialty     | 966         | 2           | 4,923  | 10             \n",
      " occupation = Machi | Categorical |      |    |        |     |     | Prof-specialty     | 966         | 2           | 3,022  | 6              \n",
      " occupation = Trans | Categorical |      |    |        |     |     | Prof-specialty     | 966         | 2           | 2,355  | 5              \n",
      " occupation = Handl | Categorical |      |    |        |     |     | Prof-specialty     | 966         | 2           | 2,072  | 4              \n",
      " occupation = ?     | Categorical |      |    |        |     |     | Prof-specialty     | 966         | 2           | 1,843  | 4              \n",
      " occupation = Farmi | Categorical |      |    |        |     |     | Prof-specialty     | 966         | 2           | 1,490  | 3              \n",
      " occupation = Tech- | Categorical |      |    |        |     |     | Prof-specialty     | 966         | 2           | 1,446  | 3              \n",
      " occupation = Prote | Categorical |      |    |        |     |     | Prof-specialty     | 966         | 2           | 983    | 2              \n",
      " occupation = NaN   | Categorical |      |    |        |     |     | Prof-specialty     | 966         | 2           | 966    | 2              \n",
      " occupation = Priv- | Categorical |      |    |        |     |     | Prof-specialty     | 966         | 2           | 242    | 0              \n",
      " occupation = Armed | Categorical |      |    |        |     |     | Prof-specialty     | 966         | 2           | 15     | 0              \n",
      " relationship = Hus | Categorical |      |    |        |     |     | Husband            | 0           | 0           | 19,716 | 40             \n",
      " relationship = Not | Categorical |      |    |        |     |     | Husband            | 0           | 0           | 12,583 | 26             \n",
      " relationship = Own | Categorical |      |    |        |     |     | Husband            | 0           | 0           | 7,581  | 16             \n",
      " relationship = Unm | Categorical |      |    |        |     |     | Husband            | 0           | 0           | 5,125  | 10             \n",
      " relationship = Wif | Categorical |      |    |        |     |     | Husband            | 0           | 0           | 2,331  | 5              \n",
      " relationship = Oth | Categorical |      |    |        |     |     | Husband            | 0           | 0           | 1,506  | 3              \n",
      " race = White       | Categorical |      |    |        |     |     | White              | 0           | 0           | 41,762 | 86             \n",
      " race = Black       | Categorical |      |    |        |     |     | White              | 0           | 0           | 4,685  | 10             \n",
      " race = Asian-Pac-I | Categorical |      |    |        |     |     | White              | 0           | 0           | 1,519  | 3              \n",
      " race = Amer-Indian | Categorical |      |    |        |     |     | White              | 0           | 0           | 470    | 1              \n",
      " race = Other       | Categorical |      |    |        |     |     | White              | 0           | 0           | 406    | 1              \n",
      " sex = Male         | Categorical |      |    |        |     |     | Male               | 0           | 0           | 32,650 | 67             \n",
      " sex = Female       | Categorical |      |    |        |     |     | Male               | 0           | 0           | 16,192 | 33             \n",
      " native-country = U | Categorical |      |    |        |     |     | United-States      | 274         | 1           | 43,832 | 90             \n",
      " native-country = M | Categorical |      |    |        |     |     | United-States      | 274         | 1           | 951    | 2              \n",
      " native-country = ? | Categorical |      |    |        |     |     | United-States      | 274         | 1           | 583    | 1              \n",
      " native-country = P | Categorical |      |    |        |     |     | United-States      | 274         | 1           | 295    | 1              \n",
      " native-country = N | Categorical |      |    |        |     |     | United-States      | 274         | 1           | 274    | 1              \n",
      " native-country = G | Categorical |      |    |        |     |     | United-States      | 274         | 1           | 206    | 0              \n",
      " native-country = P | Categorical |      |    |        |     |     | United-States      | 274         | 1           | 184    | 0              \n",
      " native-country = C | Categorical |      |    |        |     |     | United-States      | 274         | 1           | 182    | 0              \n",
      " native-country = E | Categorical |      |    |        |     |     | United-States      | 274         | 1           | 155    | 0              \n",
      " native-country = I | Categorical |      |    |        |     |     | United-States      | 274         | 1           | 151    | 0              \n",
      " native-country = C | Categorical |      |    |        |     |     | United-States      | 274         | 1           | 138    | 0              \n",
      " native-country = E | Categorical |      |    |        |     |     | United-States      | 274         | 1           | 127    | 0              \n",
      " native-country = C | Categorical |      |    |        |     |     | United-States      | 274         | 1           | 122    | 0              \n",
      " native-country = S | Categorical |      |    |        |     |     | United-States      | 274         | 1           | 115    | 0              \n",
      " native-country = J | Categorical |      |    |        |     |     | United-States      | 274         | 1           | 106    | 0              \n",
      " native-country = I | Categorical |      |    |        |     |     | United-States      | 274         | 1           | 105    | 0              \n",
      " native-country = D | Categorical |      |    |        |     |     | United-States      | 274         | 1           | 103    | 0              \n",
      " native-country = J | Categorical |      |    |        |     |     | United-States      | 274         | 1           | 92     | 0              \n",
      " native-country = G | Categorical |      |    |        |     |     | United-States      | 274         | 1           | 88     | 0              \n",
      " native-country = P | Categorical |      |    |        |     |     | United-States      | 274         | 1           | 87     | 0              \n",
      " native-country = V | Categorical |      |    |        |     |     | United-States      | 274         | 1           | 86     | 0              \n",
      " native-country = C | Categorical |      |    |        |     |     | United-States      | 274         | 1           | 85     | 0              \n",
      " native-country = H | Categorical |      |    |        |     |     | United-States      | 274         | 1           | 75     | 0              \n",
      " native-country = P | Categorical |      |    |        |     |     | United-States      | 274         | 1           | 67     | 0              \n",
      " native-country = T | Categorical |      |    |        |     |     | United-States      | 274         | 1           | 65     | 0              \n",
      " native-country = I | Categorical |      |    |        |     |     | United-States      | 274         | 1           | 59     | 0              \n",
      " native-country = G | Categorical |      |    |        |     |     | United-States      | 274         | 1           | 49     | 0              \n",
      " native-country = N | Categorical |      |    |        |     |     | United-States      | 274         | 1           | 49     | 0              \n",
      " native-country = P | Categorical |      |    |        |     |     | United-States      | 274         | 1           | 46     | 0              \n",
      " native-country = E | Categorical |      |    |        |     |     | United-States      | 274         | 1           | 45     | 0              \n",
      " native-country = F | Categorical |      |    |        |     |     | United-States      | 274         | 1           | 38     | 0              \n",
      " native-country = I | Categorical |      |    |        |     |     | United-States      | 274         | 1           | 37     | 0              \n",
      " native-country = T | Categorical |      |    |        |     |     | United-States      | 274         | 1           | 30     | 0              \n",
      " native-country = H | Categorical |      |    |        |     |     | United-States      | 274         | 1           | 30     | 0              \n",
      " native-country = C | Categorical |      |    |        |     |     | United-States      | 274         | 1           | 28     | 0              \n",
      " native-country = T | Categorical |      |    |        |     |     | United-States      | 274         | 1           | 27     | 0              \n",
      " native-country = O | Categorical |      |    |        |     |     | United-States      | 274         | 1           | 23     | 0              \n",
      " native-country = L | Categorical |      |    |        |     |     | United-States      | 274         | 1           | 23     | 0              \n",
      " native-country = Y | Categorical |      |    |        |     |     | United-States      | 274         | 1           | 23     | 0              \n",
      " native-country = S | Categorical |      |    |        |     |     | United-States      | 274         | 1           | 21     | 0              \n",
      " native-country = H | Categorical |      |    |        |     |     | United-States      | 274         | 1           | 20     | 0              \n",
      " native-country = H | Categorical |      |    |        |     |     | United-States      | 274         | 1           | 19     | 0              \n",
      " native-country = H | Categorical |      |    |        |     |     | United-States      | 274         | 1           | 1      | 0              \n",
      " income = <=50K     | Categorical |      |    |        |     |     | <=50K              | 0           | 0           | 24,720 | 51             \n",
      " income = <=50K.    | Categorical |      |    |        |     |     | <=50K              | 0           | 0           | 12,435 | 25             \n",
      " income = >50K      | Categorical |      |    |        |     |     | <=50K              | 0           | 0           | 7,841  | 16             \n",
      " income = >50K.     | Categorical |      |    |        |     |     | <=50K              | 0           | 0           | 3,846  | 8              \n"
     ]
    }
   ],
   "source": [
    "print(df2)"
   ]
  },
  {
   "cell_type": "code",
   "execution_count": 10,
   "metadata": {},
   "outputs": [],
   "source": [
    "df3, df4 = generate_table1(\n",
    "    df,\n",
    "    value_counts=True,\n",
    "    include_types=\"both\",\n",
    "    decimal_places=0,\n",
    "    combine=False,\n",
    ")"
   ]
  },
  {
   "cell_type": "code",
   "execution_count": 11,
   "metadata": {},
   "outputs": [
    {
     "name": "stdout",
     "output_type": "stream",
     "text": [
      " Variable           | Type        | Mean | SD | Median | Min | Max | Mode               | Missing (n) | Missing (%) | Count  | Proportion (%) \n",
      "--------------------|-------------|------|----|--------|-----|-----|--------------------|-------------|-------------|--------|----------------\n",
      " workclass = Privat | Categorical |      |    |        |     |     | Private            | 963         | 2           | 33,906 | 69             \n",
      " workclass = Self-e | Categorical |      |    |        |     |     | Private            | 963         | 2           | 3,862  | 8              \n",
      " workclass = Local- | Categorical |      |    |        |     |     | Private            | 963         | 2           | 3,136  | 6              \n",
      " workclass = State- | Categorical |      |    |        |     |     | Private            | 963         | 2           | 1,981  | 4              \n",
      " workclass = ?      | Categorical |      |    |        |     |     | Private            | 963         | 2           | 1,836  | 4              \n",
      " workclass = Self-e | Categorical |      |    |        |     |     | Private            | 963         | 2           | 1,695  | 3              \n",
      " workclass = Federa | Categorical |      |    |        |     |     | Private            | 963         | 2           | 1,432  | 3              \n",
      " workclass = NaN    | Categorical |      |    |        |     |     | Private            | 963         | 2           | 963    | 2              \n",
      " workclass = Withou | Categorical |      |    |        |     |     | Private            | 963         | 2           | 21     | 0              \n",
      " workclass = Never- | Categorical |      |    |        |     |     | Private            | 963         | 2           | 10     | 0              \n",
      " education = HS-gra | Categorical |      |    |        |     |     | HS-grad            | 0           | 0           | 15,784 | 32             \n",
      " education = Some-c | Categorical |      |    |        |     |     | HS-grad            | 0           | 0           | 10,878 | 22             \n",
      " education = Bachel | Categorical |      |    |        |     |     | HS-grad            | 0           | 0           | 8,025  | 16             \n",
      " education = Master | Categorical |      |    |        |     |     | HS-grad            | 0           | 0           | 2,657  | 5              \n",
      " education = Assoc- | Categorical |      |    |        |     |     | HS-grad            | 0           | 0           | 2,061  | 4              \n",
      " education = 11th   | Categorical |      |    |        |     |     | HS-grad            | 0           | 0           | 1,812  | 4              \n",
      " education = Assoc- | Categorical |      |    |        |     |     | HS-grad            | 0           | 0           | 1,601  | 3              \n",
      " education = 10th   | Categorical |      |    |        |     |     | HS-grad            | 0           | 0           | 1,389  | 3              \n",
      " education = 7th-8t | Categorical |      |    |        |     |     | HS-grad            | 0           | 0           | 955    | 2              \n",
      " education = Prof-s | Categorical |      |    |        |     |     | HS-grad            | 0           | 0           | 834    | 2              \n",
      " education = 9th    | Categorical |      |    |        |     |     | HS-grad            | 0           | 0           | 756    | 2              \n",
      " education = 12th   | Categorical |      |    |        |     |     | HS-grad            | 0           | 0           | 657    | 1              \n",
      " education = Doctor | Categorical |      |    |        |     |     | HS-grad            | 0           | 0           | 594    | 1              \n",
      " education = 5th-6t | Categorical |      |    |        |     |     | HS-grad            | 0           | 0           | 509    | 1              \n",
      " education = 1st-4t | Categorical |      |    |        |     |     | HS-grad            | 0           | 0           | 247    | 1              \n",
      " education = Presch | Categorical |      |    |        |     |     | HS-grad            | 0           | 0           | 83     | 0              \n",
      " marital-status = M | Categorical |      |    |        |     |     | Married-civ-spouse | 0           | 0           | 22,379 | 46             \n",
      " marital-status = N | Categorical |      |    |        |     |     | Married-civ-spouse | 0           | 0           | 16,117 | 33             \n",
      " marital-status = D | Categorical |      |    |        |     |     | Married-civ-spouse | 0           | 0           | 6,633  | 14             \n",
      " marital-status = S | Categorical |      |    |        |     |     | Married-civ-spouse | 0           | 0           | 1,530  | 3              \n",
      " marital-status = W | Categorical |      |    |        |     |     | Married-civ-spouse | 0           | 0           | 1,518  | 3              \n",
      " marital-status = M | Categorical |      |    |        |     |     | Married-civ-spouse | 0           | 0           | 628    | 1              \n",
      " marital-status = M | Categorical |      |    |        |     |     | Married-civ-spouse | 0           | 0           | 37     | 0              \n",
      " occupation = Prof- | Categorical |      |    |        |     |     | Prof-specialty     | 966         | 2           | 6,172  | 13             \n",
      " occupation = Craft | Categorical |      |    |        |     |     | Prof-specialty     | 966         | 2           | 6,112  | 13             \n",
      " occupation = Exec- | Categorical |      |    |        |     |     | Prof-specialty     | 966         | 2           | 6,086  | 12             \n",
      " occupation = Adm-c | Categorical |      |    |        |     |     | Prof-specialty     | 966         | 2           | 5,611  | 11             \n",
      " occupation = Sales | Categorical |      |    |        |     |     | Prof-specialty     | 966         | 2           | 5,504  | 11             \n",
      " occupation = Other | Categorical |      |    |        |     |     | Prof-specialty     | 966         | 2           | 4,923  | 10             \n",
      " occupation = Machi | Categorical |      |    |        |     |     | Prof-specialty     | 966         | 2           | 3,022  | 6              \n",
      " occupation = Trans | Categorical |      |    |        |     |     | Prof-specialty     | 966         | 2           | 2,355  | 5              \n",
      " occupation = Handl | Categorical |      |    |        |     |     | Prof-specialty     | 966         | 2           | 2,072  | 4              \n",
      " occupation = ?     | Categorical |      |    |        |     |     | Prof-specialty     | 966         | 2           | 1,843  | 4              \n",
      " occupation = Farmi | Categorical |      |    |        |     |     | Prof-specialty     | 966         | 2           | 1,490  | 3              \n",
      " occupation = Tech- | Categorical |      |    |        |     |     | Prof-specialty     | 966         | 2           | 1,446  | 3              \n",
      " occupation = Prote | Categorical |      |    |        |     |     | Prof-specialty     | 966         | 2           | 983    | 2              \n",
      " occupation = NaN   | Categorical |      |    |        |     |     | Prof-specialty     | 966         | 2           | 966    | 2              \n",
      " occupation = Priv- | Categorical |      |    |        |     |     | Prof-specialty     | 966         | 2           | 242    | 0              \n",
      " occupation = Armed | Categorical |      |    |        |     |     | Prof-specialty     | 966         | 2           | 15     | 0              \n",
      " relationship = Hus | Categorical |      |    |        |     |     | Husband            | 0           | 0           | 19,716 | 40             \n",
      " relationship = Not | Categorical |      |    |        |     |     | Husband            | 0           | 0           | 12,583 | 26             \n",
      " relationship = Own | Categorical |      |    |        |     |     | Husband            | 0           | 0           | 7,581  | 16             \n",
      " relationship = Unm | Categorical |      |    |        |     |     | Husband            | 0           | 0           | 5,125  | 10             \n",
      " relationship = Wif | Categorical |      |    |        |     |     | Husband            | 0           | 0           | 2,331  | 5              \n",
      " relationship = Oth | Categorical |      |    |        |     |     | Husband            | 0           | 0           | 1,506  | 3              \n",
      " race = White       | Categorical |      |    |        |     |     | White              | 0           | 0           | 41,762 | 86             \n",
      " race = Black       | Categorical |      |    |        |     |     | White              | 0           | 0           | 4,685  | 10             \n",
      " race = Asian-Pac-I | Categorical |      |    |        |     |     | White              | 0           | 0           | 1,519  | 3              \n",
      " race = Amer-Indian | Categorical |      |    |        |     |     | White              | 0           | 0           | 470    | 1              \n",
      " race = Other       | Categorical |      |    |        |     |     | White              | 0           | 0           | 406    | 1              \n",
      " sex = Male         | Categorical |      |    |        |     |     | Male               | 0           | 0           | 32,650 | 67             \n",
      " sex = Female       | Categorical |      |    |        |     |     | Male               | 0           | 0           | 16,192 | 33             \n",
      " native-country = U | Categorical |      |    |        |     |     | United-States      | 274         | 1           | 43,832 | 90             \n",
      " native-country = M | Categorical |      |    |        |     |     | United-States      | 274         | 1           | 951    | 2              \n",
      " native-country = ? | Categorical |      |    |        |     |     | United-States      | 274         | 1           | 583    | 1              \n",
      " native-country = P | Categorical |      |    |        |     |     | United-States      | 274         | 1           | 295    | 1              \n",
      " native-country = N | Categorical |      |    |        |     |     | United-States      | 274         | 1           | 274    | 1              \n",
      " native-country = G | Categorical |      |    |        |     |     | United-States      | 274         | 1           | 206    | 0              \n",
      " native-country = P | Categorical |      |    |        |     |     | United-States      | 274         | 1           | 184    | 0              \n",
      " native-country = C | Categorical |      |    |        |     |     | United-States      | 274         | 1           | 182    | 0              \n",
      " native-country = E | Categorical |      |    |        |     |     | United-States      | 274         | 1           | 155    | 0              \n",
      " native-country = I | Categorical |      |    |        |     |     | United-States      | 274         | 1           | 151    | 0              \n",
      " native-country = C | Categorical |      |    |        |     |     | United-States      | 274         | 1           | 138    | 0              \n",
      " native-country = E | Categorical |      |    |        |     |     | United-States      | 274         | 1           | 127    | 0              \n",
      " native-country = C | Categorical |      |    |        |     |     | United-States      | 274         | 1           | 122    | 0              \n",
      " native-country = S | Categorical |      |    |        |     |     | United-States      | 274         | 1           | 115    | 0              \n",
      " native-country = J | Categorical |      |    |        |     |     | United-States      | 274         | 1           | 106    | 0              \n",
      " native-country = I | Categorical |      |    |        |     |     | United-States      | 274         | 1           | 105    | 0              \n",
      " native-country = D | Categorical |      |    |        |     |     | United-States      | 274         | 1           | 103    | 0              \n",
      " native-country = J | Categorical |      |    |        |     |     | United-States      | 274         | 1           | 92     | 0              \n",
      " native-country = G | Categorical |      |    |        |     |     | United-States      | 274         | 1           | 88     | 0              \n",
      " native-country = P | Categorical |      |    |        |     |     | United-States      | 274         | 1           | 87     | 0              \n",
      " native-country = V | Categorical |      |    |        |     |     | United-States      | 274         | 1           | 86     | 0              \n",
      " native-country = C | Categorical |      |    |        |     |     | United-States      | 274         | 1           | 85     | 0              \n",
      " native-country = H | Categorical |      |    |        |     |     | United-States      | 274         | 1           | 75     | 0              \n",
      " native-country = P | Categorical |      |    |        |     |     | United-States      | 274         | 1           | 67     | 0              \n",
      " native-country = T | Categorical |      |    |        |     |     | United-States      | 274         | 1           | 65     | 0              \n",
      " native-country = I | Categorical |      |    |        |     |     | United-States      | 274         | 1           | 59     | 0              \n",
      " native-country = G | Categorical |      |    |        |     |     | United-States      | 274         | 1           | 49     | 0              \n",
      " native-country = N | Categorical |      |    |        |     |     | United-States      | 274         | 1           | 49     | 0              \n",
      " native-country = P | Categorical |      |    |        |     |     | United-States      | 274         | 1           | 46     | 0              \n",
      " native-country = E | Categorical |      |    |        |     |     | United-States      | 274         | 1           | 45     | 0              \n",
      " native-country = F | Categorical |      |    |        |     |     | United-States      | 274         | 1           | 38     | 0              \n",
      " native-country = I | Categorical |      |    |        |     |     | United-States      | 274         | 1           | 37     | 0              \n",
      " native-country = T | Categorical |      |    |        |     |     | United-States      | 274         | 1           | 30     | 0              \n",
      " native-country = H | Categorical |      |    |        |     |     | United-States      | 274         | 1           | 30     | 0              \n",
      " native-country = C | Categorical |      |    |        |     |     | United-States      | 274         | 1           | 28     | 0              \n",
      " native-country = T | Categorical |      |    |        |     |     | United-States      | 274         | 1           | 27     | 0              \n",
      " native-country = O | Categorical |      |    |        |     |     | United-States      | 274         | 1           | 23     | 0              \n",
      " native-country = L | Categorical |      |    |        |     |     | United-States      | 274         | 1           | 23     | 0              \n",
      " native-country = Y | Categorical |      |    |        |     |     | United-States      | 274         | 1           | 23     | 0              \n",
      " native-country = S | Categorical |      |    |        |     |     | United-States      | 274         | 1           | 21     | 0              \n",
      " native-country = H | Categorical |      |    |        |     |     | United-States      | 274         | 1           | 20     | 0              \n",
      " native-country = H | Categorical |      |    |        |     |     | United-States      | 274         | 1           | 19     | 0              \n",
      " native-country = H | Categorical |      |    |        |     |     | United-States      | 274         | 1           | 1      | 0              \n",
      " income = <=50K     | Categorical |      |    |        |     |     | <=50K              | 0           | 0           | 24,720 | 51             \n",
      " income = <=50K.    | Categorical |      |    |        |     |     | <=50K              | 0           | 0           | 12,435 | 25             \n",
      " income = >50K      | Categorical |      |    |        |     |     | <=50K              | 0           | 0           | 7,841  | 16             \n",
      " income = >50K.     | Categorical |      |    |        |     |     | <=50K              | 0           | 0           | 3,846  | 8              \n"
     ]
    }
   ],
   "source": [
    "print(df3)"
   ]
  },
  {
   "cell_type": "markdown",
   "metadata": {},
   "source": [
    "## Add Ids"
   ]
  },
  {
   "cell_type": "code",
   "execution_count": null,
   "metadata": {},
   "outputs": [],
   "source": [
    "from eda_toolkit import add_ids\n",
    "\n",
    "# Add a column of unique IDs with 9 digits and call it \"census_id\"\n",
    "df = add_ids(\n",
    "    df=df,\n",
    "    id_colname=\"census_id\",\n",
    "    num_digits=9,\n",
    "    seed=111,\n",
    "    set_as_index=True,\n",
    ")\n",
    "\n",
    "df.head()"
   ]
  },
  {
   "cell_type": "code",
   "execution_count": null,
   "metadata": {},
   "outputs": [],
   "source": [
    "if df.index.is_unique:\n",
    "    print(\"The index is unique.\")\n",
    "else:\n",
    "    print(\"The index is not unique.\")"
   ]
  },
  {
   "cell_type": "markdown",
   "metadata": {},
   "source": [
    "## Trailing Period Removal"
   ]
  },
  {
   "cell_type": "code",
   "execution_count": null,
   "metadata": {},
   "outputs": [],
   "source": [
    "from eda_toolkit import strip_trailing_period\n",
    "\n",
    "# Create a sample dataframe with trailing periods in some values\n",
    "data = {\n",
    "    \"values\": [1.0, 2.0, 3.0, 4.0, 5.0, 6.0],\n",
    "}\n",
    "df_trail = pd.DataFrame(data)\n",
    "\n",
    "# Remove trailing periods from the 'values' column\n",
    "df_trail = strip_trailing_period(df=df_trail, column_name=\"values\")\n",
    "df_trail"
   ]
  },
  {
   "cell_type": "markdown",
   "metadata": {},
   "source": [
    "## Standardized Dates"
   ]
  },
  {
   "cell_type": "code",
   "execution_count": null,
   "metadata": {},
   "outputs": [],
   "source": [
    "from eda_toolkit import parse_date_with_rule\n",
    "\n",
    "# Sample date strings\n",
    "date_strings = [\"15/04/2021\", \"04/15/2021\", \"01/12/2020\", \"12/01/2020\"]\n",
    "\n",
    "# Standardize the date strings\n",
    "standardized_dates = [parse_date_with_rule(date) for date in date_strings]\n",
    "\n",
    "print(standardized_dates)"
   ]
  },
  {
   "cell_type": "code",
   "execution_count": null,
   "metadata": {},
   "outputs": [],
   "source": [
    "# Creating the DataFrame\n",
    "data = {\n",
    "    \"date_column\": [\n",
    "        \"31/12/2021\",\n",
    "        \"01/01/2022\",\n",
    "        \"12/31/2021\",\n",
    "        \"13/02/2022\",\n",
    "        \"07/04/2022\",\n",
    "    ],\n",
    "    \"name\": [\"Alice\", \"Bob\", \"Charlie\", \"David\", \"Eve\"],\n",
    "    \"amount\": [100.0, 150.5, 200.75, 250.25, 300.0],\n",
    "}\n",
    "\n",
    "df_fake = pd.DataFrame(data)\n",
    "\n",
    "# Apply the function to the DataFrame column\n",
    "df_fake[\"standardized_date\"] = df_fake[\"date_column\"].apply(parse_date_with_rule)\n",
    "\n",
    "print(df_fake)"
   ]
  },
  {
   "cell_type": "markdown",
   "metadata": {},
   "source": [
    "## DataFrame Analysis"
   ]
  },
  {
   "cell_type": "code",
   "execution_count": null,
   "metadata": {},
   "outputs": [],
   "source": [
    "from eda_toolkit import dataframe_profiler\n",
    "\n",
    "dataframe_profiler(df=df, background_color=\"brown\")"
   ]
  },
  {
   "cell_type": "markdown",
   "metadata": {},
   "source": [
    "## Binning Numerical Columns"
   ]
  },
  {
   "cell_type": "code",
   "execution_count": null,
   "metadata": {},
   "outputs": [],
   "source": [
    "bin_ages = [\n",
    "    0,\n",
    "    18,\n",
    "    30,\n",
    "    40,\n",
    "    50,\n",
    "    60,\n",
    "    70,\n",
    "    80,\n",
    "    90,\n",
    "    100,\n",
    "    float(\"inf\"),\n",
    "]"
   ]
  },
  {
   "cell_type": "code",
   "execution_count": null,
   "metadata": {},
   "outputs": [],
   "source": [
    "label_ages = [\n",
    "    \"< 18\",\n",
    "    \"18-29\",\n",
    "    \"30-39\",\n",
    "    \"40-49\",\n",
    "    \"50-59\",\n",
    "    \"60-69\",\n",
    "    \"70-79\",\n",
    "    \"80-89\",\n",
    "    \"90-99\",\n",
    "    \"100 +\",\n",
    "]"
   ]
  },
  {
   "cell_type": "code",
   "execution_count": null,
   "metadata": {},
   "outputs": [],
   "source": [
    "df[\"age_group\"] = pd.cut(\n",
    "    df[\"age\"],\n",
    "    bins=bin_ages,\n",
    "    labels=label_ages,\n",
    "    right=False,\n",
    ")"
   ]
  },
  {
   "cell_type": "markdown",
   "metadata": {},
   "source": [
    "## Generating Summary Tables for Variable Combinations"
   ]
  },
  {
   "cell_type": "code",
   "execution_count": null,
   "metadata": {},
   "outputs": [],
   "source": [
    "from eda_toolkit import summarize_all_combinations\n",
    "\n",
    "# Define unique variables for the analysis\n",
    "unique_vars = [\n",
    "    \"age_group\",\n",
    "    \"workclass\",\n",
    "    \"education\",\n",
    "    \"occupation\",\n",
    "    \"race\",\n",
    "    \"sex\",\n",
    "    \"income\",\n",
    "]\n",
    "\n",
    "# Generate summary tables for all combinations of the specified variables\n",
    "summary_tables, all_combinations = summarize_all_combinations(\n",
    "    df=df,\n",
    "    data_path=data_output,\n",
    "    variables=unique_vars,\n",
    "    data_name=\"census_summary_tables.xlsx\",\n",
    ")\n",
    "\n",
    "# Print all combinations of variables\n",
    "print(all_combinations)"
   ]
  },
  {
   "cell_type": "markdown",
   "metadata": {},
   "source": [
    "## Saving DataFrames to Excel with Customized Formatting"
   ]
  },
  {
   "cell_type": "code",
   "execution_count": null,
   "metadata": {},
   "outputs": [],
   "source": [
    "from eda_toolkit import save_dataframes_to_excel\n",
    "\n",
    "# Example usage\n",
    "file_name = \"df_census.xlsx\"  # Name of the output Excel file\n",
    "file_path = os.path.join(data_path, file_name)\n",
    "\n",
    "# filter DataFrame to Ages 18-40\n",
    "filtered_df = df[(df[\"age\"] > 18) & (df[\"age\"] < 40)]\n",
    "\n",
    "df_dict = {\n",
    "    \"original_df\": df,\n",
    "    \"ages_18_to_40\": filtered_df,\n",
    "}\n",
    "\n",
    "save_dataframes_to_excel(\n",
    "    file_path=file_path,\n",
    "    df_dict=df_dict,\n",
    "    decimal_places=0,\n",
    ")"
   ]
  },
  {
   "cell_type": "markdown",
   "metadata": {},
   "source": [
    "## Creating Contingency Tables"
   ]
  },
  {
   "cell_type": "code",
   "execution_count": null,
   "metadata": {},
   "outputs": [],
   "source": [
    "from eda_toolkit import contingency_table\n",
    "\n",
    "# Example usage\n",
    "contingency_table(\n",
    "    df=df,\n",
    "    cols=[\n",
    "        \"age_group\",\n",
    "        \"workclass\",\n",
    "        \"race\",\n",
    "        \"sex\",\n",
    "    ],\n",
    "    sort_by=1,\n",
    ")"
   ]
  },
  {
   "cell_type": "markdown",
   "metadata": {},
   "source": [
    "## Highlighting Specific Columns in a DataFrame"
   ]
  },
  {
   "cell_type": "code",
   "execution_count": null,
   "metadata": {},
   "outputs": [],
   "source": [
    "from eda_toolkit import highlight_columns\n",
    "\n",
    "# Applying the highlight function\n",
    "highlighted_df = highlight_columns(\n",
    "    df=df.head(),\n",
    "    columns=[\"age\", \"education\"],\n",
    "    color=\"brown\",\n",
    ")\n",
    "\n",
    "highlighted_df"
   ]
  }
 ],
 "metadata": {
  "kernelspec": {
   "display_name": "eda_venv_311",
   "language": "python",
   "name": "python3"
  },
  "language_info": {
   "codemirror_mode": {
    "name": "ipython",
    "version": 3
   },
   "file_extension": ".py",
   "mimetype": "text/x-python",
   "name": "python",
   "nbconvert_exporter": "python",
   "pygments_lexer": "ipython3",
   "version": "3.11.0"
  }
 },
 "nbformat": 4,
 "nbformat_minor": 2
}

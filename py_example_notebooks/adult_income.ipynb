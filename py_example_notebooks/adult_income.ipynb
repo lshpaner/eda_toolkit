{
 "cells": [
  {
   "cell_type": "code",
   "execution_count": 2,
   "metadata": {},
   "outputs": [
    {
     "name": "stdout",
     "output_type": "stream",
     "text": [
      "Created directory: ../data\n",
      "Created directory: ../data_output\n",
      "Created directory: ../images/png_images\n",
      "Created directory: ../images/svg_images\n"
     ]
    }
   ],
   "source": [
    "from eda_toolkit import ensure_directory\n",
    "\n",
    "import os # import operating system for dir\n",
    "\n",
    "\n",
    "base_path = os.path.join(os.pardir)\n",
    "\n",
    "# Go up one level from 'notebooks' to parent directory,\n",
    "# then into the 'data' folder\n",
    "data_path = os.path.join(os.pardir, \"data\")\n",
    "data_output = os.path.join(os.pardir, \"data_output\")\n",
    "\n",
    "# create image paths\n",
    "image_path_png = os.path.join(base_path, \"images\", \"png_images\")\n",
    "image_path_svg = os.path.join(base_path, \"images\", \"svg_images\")\n",
    "\n",
    "# Use the function to ensure'data' directory exists\n",
    "ensure_directory(data_path)\n",
    "ensure_directory(data_output)\n",
    "ensure_directory(image_path_png)\n",
    "ensure_directory(image_path_svg)"
   ]
  }
 ],
 "metadata": {
  "kernelspec": {
   "display_name": "edatoolkit_venv",
   "language": "python",
   "name": "python3"
  },
  "language_info": {
   "codemirror_mode": {
    "name": "ipython",
    "version": 3
   },
   "file_extension": ".py",
   "mimetype": "text/x-python",
   "name": "python",
   "nbconvert_exporter": "python",
   "pygments_lexer": "ipython3",
   "version": "3.11.0"
  }
 },
 "nbformat": 4,
 "nbformat_minor": 2
}

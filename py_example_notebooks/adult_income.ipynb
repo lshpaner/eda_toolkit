{
 "cells": [
  {
   "cell_type": "markdown",
   "metadata": {},
   "source": [
    "## Import Requisite Lbraries"
   ]
  },
  {
   "cell_type": "code",
   "execution_count": 1,
   "metadata": {},
   "outputs": [],
   "source": [
    "import pandas as pd\n",
    "import numpy as np\n",
    "import os"
   ]
  },
  {
   "cell_type": "markdown",
   "metadata": {},
   "source": [
    "## Ensure Directory"
   ]
  },
  {
   "cell_type": "code",
   "execution_count": 2,
   "metadata": {},
   "outputs": [
    {
     "name": "stdout",
     "output_type": "stream",
     "text": [
      "Directory exists: ../data\n",
      "Directory exists: ../data_output\n",
      "Directory exists: ../images/png_images\n",
      "Directory exists: ../images/svg_images\n"
     ]
    }
   ],
   "source": [
    "from eda_toolkit import ensure_directory\n",
    "\n",
    "import os # import operating system for dir\n",
    "\n",
    "\n",
    "base_path = os.path.join(os.pardir)\n",
    "\n",
    "# Go up one level from 'notebooks' to parent directory,\n",
    "# then into the 'data' folder\n",
    "data_path = os.path.join(os.pardir, \"data\")\n",
    "data_output = os.path.join(os.pardir, \"data_output\")\n",
    "\n",
    "# create image paths\n",
    "image_path_png = os.path.join(base_path, \"images\", \"png_images\")\n",
    "image_path_svg = os.path.join(base_path, \"images\", \"svg_images\")\n",
    "\n",
    "# Use the function to ensure'data' directory exists\n",
    "ensure_directory(data_path)\n",
    "ensure_directory(data_output)\n",
    "ensure_directory(image_path_png)\n",
    "ensure_directory(image_path_svg)"
   ]
  },
  {
   "cell_type": "markdown",
   "metadata": {},
   "source": [
    "## UCI ML Repository"
   ]
  },
  {
   "cell_type": "code",
   "execution_count": 3,
   "metadata": {},
   "outputs": [],
   "source": [
    "from ucimlrepo import fetch_ucirepo \n",
    "  \n",
    "# fetch dataset \n",
    "adult = fetch_ucirepo(id=2) \n",
    "  \n",
    "# data (as pandas dataframes) \n",
    "X = adult.data.features \n",
    "y = adult.data.targets \n",
    "  \n",
    "# Combine X and y into entire df\n",
    "df = X.join(y, how=\"inner\")\n",
    "\n",
    "df.to_csv(os.path.join(data_path, \"adult_income.csv\"))"
   ]
  }
 ],
 "metadata": {
  "kernelspec": {
   "display_name": "edatoolkit_venv",
   "language": "python",
   "name": "python3"
  },
  "language_info": {
   "codemirror_mode": {
    "name": "ipython",
    "version": 3
   },
   "file_extension": ".py",
   "mimetype": "text/x-python",
   "name": "python",
   "nbconvert_exporter": "python",
   "pygments_lexer": "ipython3",
   "version": "3.11.0"
  }
 },
 "nbformat": 4,
 "nbformat_minor": 2
}
